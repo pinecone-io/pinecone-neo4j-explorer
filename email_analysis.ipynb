{
 "cells": [
  {
   "cell_type": "code",
   "execution_count": 10,
   "metadata": {},
   "outputs": [
    {
     "name": "stdout",
     "output_type": "stream",
     "text": [
      "file       1000\n",
      "message    1000\n",
      "dtype: int64\n"
     ]
    }
   ],
   "source": [
    "import pandas as pd\n",
    "import re\n",
    "import hashlib\n",
    "\n",
    "# Read the first 10 rows of \"emails.csv\"\n",
    "emails_df = pd.read_csv(\"emails.csv\", nrows=1000)\n",
    "\n",
    "print(emails_df.count())"
   ]
  },
  {
   "cell_type": "code",
   "execution_count": null,
   "metadata": {},
   "outputs": [],
   "source": []
  },
  {
   "cell_type": "code",
   "execution_count": 15,
   "metadata": {},
   "outputs": [],
   "source": [
    "import email\n",
    "from email import policy\n",
    "import re\n",
    "\n",
    "def parse_email(email_str):\n",
    "    # Parse the email string\n",
    "    msg = email.message_from_string(email_str, policy=policy.default)\n",
    "    return msg\n",
    "\n",
    "def extract_forwarded_email_headers(payload):\n",
    "    # Use regex to find the original headers in the forwarded email|\n",
    "    forwarded_headers = {}\n",
    "    forwarded_headers['From'] = re.findall(r'From: (.+)', payload)\n",
    "    forwarded_headers['To'] = re.findall(r'To: (.+)', payload)\n",
    "    forwarded_headers['Date'] = re.findall(r'Date: (.+)', payload)\n",
    "    forwarded_headers['Subject'] = re.findall(r'Subject: (.+)', payload)\n",
    "    return forwarded_headers\n",
    "\n",
    "def find_included_email_parts(msg):\n",
    "    # This function checks if the email contains another email\n",
    "    included_emails = []\n",
    "    if msg.is_multipart():\n",
    "        for part in msg.iter_parts():\n",
    "            included_emails.extend(find_included_email_parts(part))\n",
    "    else:\n",
    "        payload = msg.get_payload()\n",
    "        if isinstance(payload, str) and any(indicator in payload for indicator in [\"Forwarded message\", \"Original Message\", \"From:\", \"Sent:\", \"To:\", \"Subject:\"]):\n",
    "            included_emails.append(msg)\n",
    "    return included_emails\n",
    "\n",
    "def extract_included_email(msg):\n",
    "    # Extracts the included email text and headers\n",
    "    included_email_texts = []\n",
    "    if msg.is_multipart():\n",
    "        for part in msg.iter_parts():\n",
    "            included_email_texts.extend(extract_included_email(part))\n",
    "    else:\n",
    "        payload = msg.get_payload(decode=True)\n",
    "        if payload:\n",
    "            payload = payload.decode()\n",
    "            # Detect forwarded email indicators\n",
    "            start_idx = min(\n",
    "                (payload.find(indicator) for indicator in [\"Forwarded message\", \"Original Message\", \"From:\", \"Sent:\", \"To:\", \"Subject:\"] if payload.find(indicator) != -1),\n",
    "                default=-1\n",
    "            )\n",
    "            if start_idx != -1:\n",
    "                included_email_texts.append(payload[start_idx:])\n",
    "                # Extract headers\n",
    "                headers = extract_forwarded_email_headers(payload[start_idx:])\n",
    "                return headers, payload[start_idx:]\n",
    "    return None, None"
   ]
  },
  {
   "cell_type": "code",
   "execution_count": 46,
   "metadata": {},
   "outputs": [],
   "source": [
    "from fuzzywuzzy import fuzz\n",
    "\n",
    "class EmailNamesResult:\n",
    "    def __init__(self):\n",
    "        self.result = {'from': {}, 'to': {}}\n",
    "\n",
    "    def add_from(self, from_email, from_name):\n",
    "        if from_email:\n",
    "            self.result['from'][from_email] = from_name\n",
    "\n",
    "    def add_to(self, to_email, to_name):\n",
    "        if to_email:\n",
    "            self.result['to'][to_email] = to_name\n",
    "\n",
    "def get_names_from_email(email):  \n",
    "    result = EmailNamesResult()\n",
    "\n",
    "    # Extract the 'From' email address\n",
    "    from_email = email.get('From')\n",
    "\n",
    "    # Extract the 'To' email addresses\n",
    "    to_emails = email.get_all('To', [])\n",
    "\n",
    "    # Extract the 'X-From' and 'X-To' headers\n",
    "    x_from = email.get('X-From')\n",
    "    x_to = email.get_all('X-To', [])\n",
    "\n",
    "    # Match the name in 'X-From' with the 'From' email address using fuzzy matching\n",
    "    if from_email and x_from and fuzz.partial_ratio(from_email, x_from) > 40:\n",
    "        result.add_from(from_email, x_from)    \n",
    "    # Match the names in 'X-To' with the 'To' email addresses using fuzzy matching\n",
    "    for to_email in to_emails:\n",
    "        for x_to_entry in x_to:\n",
    "            if fuzz.partial_ratio(to_email, x_to_entry) > 40:\n",
    "                result.add_to(to_email, x_to_entry)\n",
    "                break\n",
    "\n",
    "    return result.result"
   ]
  },
  {
   "cell_type": "code",
   "execution_count": 50,
   "metadata": {},
   "outputs": [
    {
     "data": {
      "text/plain": [
       "b'---------------------- Forwarded by Phillip K Allen/HOU/ECT on 07/26/2000 \\n10:49 AM ---------------------------\\n   \\n\\tEnron North America Corp.\\n\\t\\n\\tFrom:  Kristian J Lande                           07/25/2000 02:24 PM\\n\\t\\n\\nTo: Christopher F Calger/PDX/ECT@ECT, Jake Thomas/HOU/ECT@ECT, Frank W \\nVickers/HOU/ECT@ECT, Elliot Mainzer/PDX/ECT@ECT, Michael McDonald/SF/ECT@ECT, \\nDavid Parquet/SF/ECT@ECT, Laird Dyer/SF/ECT@ECT, Jim Buerkle/PDX/ECT@ECT, Jim \\nGilbert/PDX/ECT@ECT, Terry W Donovan/HOU/ECT@ECT, Jeff G \\nSlaughter/ENRON_DEVELOPMENT@ENRON_DEVELOPMENT, Tim Belden/HOU/ECT@ECT, Mike \\nSwerzbin/HOU/ECT@ECT, Matt Motley/PDX/ECT@ECT, Robert Badeer/HOU/ECT@ECT, \\nSean Crandall/PDX/ECT@ECT, Diana Scholtes/HOU/ECT@ECT, Tom \\nAlonso/PDX/ECT@ECT, Mark Fischer/PDX/ECT@ECT, Tim Heizenrader/PDX/ECT@ECT\\ncc: Phillip K Allen/HOU/ECT@ECT \\nSubject: New Generation Update 7/24/00\\n\\n\\n'"
      ]
     },
     "execution_count": 50,
     "metadata": {},
     "output_type": "execute_result"
    }
   ],
   "source": [
    "entry = parse_email(emails_df.iloc[123]['message'])\n",
    "entry.get_payload(decode=True)\n"
   ]
  },
  {
   "cell_type": "code",
   "execution_count": null,
   "metadata": {},
   "outputs": [],
   "source": [
    "entry = parse_email(emails_df.iloc[123]['message'])\n",
    "print(entry)"
   ]
  },
  {
   "cell_type": "code",
   "execution_count": null,
   "metadata": {},
   "outputs": [],
   "source": []
  }
 ],
 "metadata": {
  "kernelspec": {
   "display_name": ".venv",
   "language": "python",
   "name": "python3"
  },
  "language_info": {
   "codemirror_mode": {
    "name": "ipython",
    "version": 3
   },
   "file_extension": ".py",
   "mimetype": "text/x-python",
   "name": "python",
   "nbconvert_exporter": "python",
   "pygments_lexer": "ipython3",
   "version": "3.11.4"
  }
 },
 "nbformat": 4,
 "nbformat_minor": 2
}
