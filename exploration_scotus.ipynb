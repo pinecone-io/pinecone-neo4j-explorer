{
 "cells": [
  {
   "cell_type": "code",
   "execution_count": 1,
   "metadata": {},
   "outputs": [
    {
     "name": "stdout",
     "output_type": "stream",
     "text": [
      "Connection to Neo4j established successfully.\n"
     ]
    }
   ],
   "source": [
    "import os\n",
    "from dotenv import load_dotenv\n",
    "from neo4j import GraphDatabase\n",
    "\n",
    "# Load environment variables from .env file\n",
    "load_dotenv()\n",
    "\n",
    "# Read Neo4j credentials from environment variables\n",
    "neo4j_username = os.getenv('NEO4J_USERNAME')\n",
    "neo4j_password = os.getenv('NEO4J_PASSWORD')\n",
    "neo4j_uri = os.getenv('NEO4J_URI')\n",
    "\n",
    "# Create a Neo4j driver instance\n",
    "driver = GraphDatabase.driver(neo4j_uri, auth=(neo4j_username, neo4j_password))\n",
    "\n",
    "# Verify the connection\n",
    "\n",
    "def verify_connection(driver):\n",
    "    try:\n",
    "        with driver.session() as session:\n",
    "            result = session.run(\"RETURN 1\")\n",
    "            if result.single()[0] == 1:\n",
    "                print(\"Connection to Neo4j established successfully.\")\n",
    "            else:\n",
    "                print(\"Failed to establish connection to Neo4j.\")\n",
    "    except Exception as e:\n",
    "        print(f\"An error occurred: {e}\")\n",
    "\n",
    "verify_connection(driver)\n",
    "\n"
   ]
  },
  {
   "cell_type": "code",
   "execution_count": 2,
   "metadata": {},
   "outputs": [
    {
     "name": "stdout",
     "output_type": "stream",
     "text": [
      "{'nodes': ['Case', 'Party', 'Justice', 'Advocate', 'Opinion', 'ORG', 'LOC', 'PER', 'MISC'], 'edges': ['case_opinion', 'alternate_name', 'mentioned_in', 'Petitioner', 'Respondent', 'advocated_by', 'decided_by', 'won_by', 'majority', 'minority', 'based_in', 'none', 'lived_in', 'religion', 'employee_of', 'works_for', 'parent_of', 'child_of', 'has_shareholder', 'owns', 'sibling_of', 'related_to', 'Appellant', 'Appellee', 'charges', 'origin', 'born_in', 'school_attended', 'has_title', 'part_of', 'website']}\n"
     ]
    }
   ],
   "source": [
    "def get_schema(driver):\n",
    "    schema = {\"nodes\": [], \"edges\": []}\n",
    "    try:\n",
    "        with driver.session() as session:\n",
    "            # Get node labels\n",
    "            node_labels_result = session.run(\"CALL db.labels()\")\n",
    "            schema[\"nodes\"] = [record[\"label\"] for record in node_labels_result]\n",
    "            \n",
    "            # Get relationship types\n",
    "            relationship_types_result = session.run(\"CALL db.relationshipTypes()\")\n",
    "            schema[\"edges\"] = [record[\"relationshipType\"] for record in relationship_types_result]\n",
    "    except Exception as e:\n",
    "        print(f\"An error occurred while retrieving the schema: {e}\")\n",
    "    return schema\n",
    "\n",
    "schema = get_schema(driver)\n",
    "print(schema)\n"
   ]
  },
  {
   "cell_type": "code",
   "execution_count": null,
   "metadata": {},
   "outputs": [],
   "source": [
    "def get_most_connected_nodes_and_edges(driver, limit=10):\n",
    "    query = \"\"\"\n",
    "    MATCH (n)-[r]->()\n",
    "    RETURN id(n) as node_id, labels(n) as node_labels, COUNT(r) as connections\n",
    "    ORDER BY connections DESC\n",
    "    LIMIT $limit\n",
    "    \"\"\"\n",
    "    nodes = []\n",
    "    edges = []\n",
    "    try:\n",
    "        with driver.session() as session:\n",
    "            result = session.run(query, limit=limit)\n",
    "            for record in result:\n",
    "                node_id = record[\"node_id\"]\n",
    "                node_labels = record[\"node_labels\"]\n",
    "                connections = record[\"connections\"]\n",
    "                nodes.append({\"node_id\": node_id, \"node_labels\": node_labels})\n",
    "                \n",
    "                # Get all edges for the current node\n",
    "                edge_query = \"\"\"\n",
    "                MATCH (n)-[r]->(m)\n",
    "                WHERE id(n) = $node_id\n",
    "                RETURN id(r) as edge_id, id(m) as connected_node_id\n",
    "                \"\"\"\n",
    "                edge_result = session.run(edge_query, node_id=node_id)\n",
    "                for edge_record in edge_result:\n",
    "                    edge_id = edge_record[\"edge_id\"]\n",
    "                    connected_node_id = edge_record[\"connected_node_id\"]\n",
    "                    edges.append({\"edge_id\": edge_id, \"connected_node_id\": connected_node_id})\n",
    "    except Exception as e:\n",
    "        print(f\"An error occurred while retrieving the most connected nodes and edges: {e}\")\n",
    "    return {\"nodes\": nodes, \"edges\": edges}\n",
    "\n",
    "most_connected_nodes_and_edges = get_most_connected_nodes_and_edges(driver)\n",
    "print(most_connected_nodes_and_edges)\n"
   ]
  }
 ],
 "metadata": {
  "kernelspec": {
   "display_name": ".venv",
   "language": "python",
   "name": "python3"
  },
  "language_info": {
   "codemirror_mode": {
    "name": "ipython",
    "version": 3
   },
   "file_extension": ".py",
   "mimetype": "text/x-python",
   "name": "python",
   "nbconvert_exporter": "python",
   "pygments_lexer": "ipython3",
   "version": "3.11.4"
  }
 },
 "nbformat": 4,
 "nbformat_minor": 2
}
